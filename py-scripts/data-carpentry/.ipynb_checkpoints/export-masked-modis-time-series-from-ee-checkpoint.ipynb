{
 "cells": [
  {
   "cell_type": "code",
   "execution_count": 1,
   "metadata": {
    "collapsed": true
   },
   "outputs": [],
   "source": [
    "# Import the Earth Engine Python Package\n",
    "import ee\n",
    "\n",
    "# Initialize the Earth Engine object, using the authentication credentials.\n",
    "ee.Initialize()"
   ]
  },
  {
   "cell_type": "code",
   "execution_count": 2,
   "metadata": {},
   "outputs": [
    {
     "name": "stdout",
     "output_type": "stream",
     "text": [
      "391\n"
     ]
    }
   ],
   "source": [
    "# Import the required Images and ImageCollections\n",
    "sn = ee.FeatureCollection(\"ft:1VX1Uny1uAIYdgfuvsjLJVw1wMkhmSZq7fCQ0gowV\");\n",
    "modis = ee.ImageCollection(\"MODIS/006/MOD13Q1\");\n",
    "conifer_forest = ee.Image(\"users/mkoontz/sierra-nevada-250m-calveg-conifer-forested-pixels-by-whr-type-no-mask-full-cell\");\n",
    "\n",
    "# How many images are in the MODIS ImageCollection?\n",
    "print(modis.size().getInfo());"
   ]
  },
  {
   "cell_type": "code",
   "execution_count": 3,
   "metadata": {},
   "outputs": [
    {
     "data": {
      "text/html": [
       "<img src=\"https://earthengine.googleapis.com/api/thumb?thumbid=0467efc9383b6d968aa365ccde510e3d&token=cd0300cfbc0c79ce4499f579512bf195\"/>"
      ],
      "text/plain": [
       "<IPython.core.display.Image object>"
      ]
     },
     "metadata": {},
     "output_type": "display_data"
    }
   ],
   "source": [
    "# Display an image to make sure everything is working as expected.\n",
    "\n",
    "from IPython.display import Image, display, HTML\n",
    "\n",
    "thumburl = conifer_forest.getThumbUrl({\n",
    "                'min':0, \n",
    "                'max':1          \n",
    "            })\n",
    "\n",
    "#print thumburl\n",
    "img_thumb = Image(url=thumburl)\n",
    "display(img_thumb)"
   ]
  },
  {
   "cell_type": "code",
   "execution_count": 4,
   "metadata": {
    "collapsed": true
   },
   "outputs": [],
   "source": [
    "# Define the masking function that will determine which pixels are both forested AND of high MODIS quality.\n",
    "\n",
    "def quality_forest_mask(img):\n",
    "#   date = ee.Date(img.get('system:time_start')).format(\"YYYYMMdd\")\n",
    "#   date = ee.Number.parse(date)\n",
    "  \n",
    "  date = ee.Image(ee.Number(img.get('system:time_start'))).rename([\"date\"]).divide(1000)\n",
    "     \n",
    "  quality_pixels = img.select([\"SummaryQA\"]).rename([\"quality_pixel\"]).eq(0)\n",
    "\n",
    "  clean_img = img.select([\"NDVI\", \n",
    "        \"EVI\", \n",
    "        \"sur_refl_b01\", \n",
    "        \"sur_refl_b02\", \n",
    "        \"sur_refl_b03\", \n",
    "        \"sur_refl_b07\",\n",
    "        \"ViewZenith\",\n",
    "        \"SolarZenith\",\n",
    "        \"RelativeAzimuth\",\n",
    "        \"DayOfYear\",\n",
    "        \"SummaryQA\",\n",
    "        \"DetailedQA\"]).addBands(date).updateMask(quality_pixels).updateMask(conifer_forest).toInt32()\n",
    "\n",
    "#   In order to export a \"masked\" image, fill the masked pixels with a silly number\n",
    "#   All \"masked\" pixels will have a value of 1 (or -9999 for the commented out code)\n",
    "#   I switched it to 1 in an effort to save space?\n",
    "\n",
    "#   First, generate a dummy image with the same number of bands as the MODIS image\n",
    "#   var filled_img = ee.Image([ -9999, -9999, -9999, \n",
    "#                             -9999, -9999, -9999, \n",
    "#                             -9999, -9999, -9999, \n",
    "#                             -9999, -9999, -9999])\n",
    "  filled_img = ee.Image([1, 1, 1, \n",
    "                        1, 1, 1, \n",
    "                        1, 1, 1, \n",
    "                        1, 1, 1, 1]).rename([\"NDVI\", \n",
    "                                                \"EVI\", \n",
    "                                                \"sur_refl_b01\", \n",
    "                                                \"sur_refl_b02\", \n",
    "                                                \"sur_refl_b03\", \n",
    "                                                \"sur_refl_b07\",\n",
    "                                                \"ViewZenith\",\n",
    "                                                \"SolarZenith\",\n",
    "                                                \"RelativeAzimuth\",\n",
    "                                                \"DayOfYear\",\n",
    "                                                \"SummaryQA\",\n",
    "                                                \"DetailedQA\",\n",
    "                                                \"date\"])\n",
    "\n",
    "#   Where there is a mask in the clean image, replace the value of the clean image with the \n",
    "#   value from the dummy image (with all 1 (or -9999 from the commented out code))\n",
    "  export_img = filled_img.where(clean_img.mask(), clean_img).clip(sn.geometry().bounds())\n",
    "  export_img = ee.Image(export_img.copyProperties(clean_img, ['system:time_start']))\n",
    "\n",
    "  return export_img;"
   ]
  },
  {
   "cell_type": "code",
   "execution_count": 5,
   "metadata": {},
   "outputs": [
    {
     "name": "stdout",
     "output_type": "stream",
     "text": [
      "{'properties': {'system:index': '2000_02_18', 'system:footprint': {'coordinates': [[[-121.61056999999998, 35.159639999999975], [-117.86847999999999, 35.159639999999975], [-117.86847999999999, 40.42550000000002], [-121.61056999999998, 40.42550000000002], [-121.61056999999998, 35.159639999999975]]], 'geodesic': False, 'type': 'Polygon'}, 'system:time_start': 950832000000}, 'bands': [{'dimensions': [5, 6], 'crs_transform': [1.0, 0.0, 0.0, 0.0, 1.0, 0.0], 'origin': [-122, 35], 'id': 'NDVI', 'data_type': {'max': 2147483647, 'precision': 'int', 'min': -2147483648, 'type': 'PixelType'}, 'crs': 'EPSG:4326'}, {'dimensions': [5, 6], 'crs_transform': [1.0, 0.0, 0.0, 0.0, 1.0, 0.0], 'origin': [-122, 35], 'id': 'EVI', 'data_type': {'max': 2147483647, 'precision': 'int', 'min': -2147483648, 'type': 'PixelType'}, 'crs': 'EPSG:4326'}, {'dimensions': [5, 6], 'crs_transform': [1.0, 0.0, 0.0, 0.0, 1.0, 0.0], 'origin': [-122, 35], 'id': 'sur_refl_b01', 'data_type': {'max': 2147483647, 'precision': 'int', 'min': -2147483648, 'type': 'PixelType'}, 'crs': 'EPSG:4326'}, {'dimensions': [5, 6], 'crs_transform': [1.0, 0.0, 0.0, 0.0, 1.0, 0.0], 'origin': [-122, 35], 'id': 'sur_refl_b02', 'data_type': {'max': 2147483647, 'precision': 'int', 'min': -2147483648, 'type': 'PixelType'}, 'crs': 'EPSG:4326'}, {'dimensions': [5, 6], 'crs_transform': [1.0, 0.0, 0.0, 0.0, 1.0, 0.0], 'origin': [-122, 35], 'id': 'sur_refl_b03', 'data_type': {'max': 2147483647, 'precision': 'int', 'min': -2147483648, 'type': 'PixelType'}, 'crs': 'EPSG:4326'}, {'dimensions': [5, 6], 'crs_transform': [1.0, 0.0, 0.0, 0.0, 1.0, 0.0], 'origin': [-122, 35], 'id': 'sur_refl_b07', 'data_type': {'max': 2147483647, 'precision': 'int', 'min': -2147483648, 'type': 'PixelType'}, 'crs': 'EPSG:4326'}, {'dimensions': [5, 6], 'crs_transform': [1.0, 0.0, 0.0, 0.0, 1.0, 0.0], 'origin': [-122, 35], 'id': 'ViewZenith', 'data_type': {'max': 2147483647, 'precision': 'int', 'min': -2147483648, 'type': 'PixelType'}, 'crs': 'EPSG:4326'}, {'dimensions': [5, 6], 'crs_transform': [1.0, 0.0, 0.0, 0.0, 1.0, 0.0], 'origin': [-122, 35], 'id': 'SolarZenith', 'data_type': {'max': 2147483647, 'precision': 'int', 'min': -2147483648, 'type': 'PixelType'}, 'crs': 'EPSG:4326'}, {'dimensions': [5, 6], 'crs_transform': [1.0, 0.0, 0.0, 0.0, 1.0, 0.0], 'origin': [-122, 35], 'id': 'RelativeAzimuth', 'data_type': {'max': 2147483647, 'precision': 'int', 'min': -2147483648, 'type': 'PixelType'}, 'crs': 'EPSG:4326'}, {'dimensions': [5, 6], 'crs_transform': [1.0, 0.0, 0.0, 0.0, 1.0, 0.0], 'origin': [-122, 35], 'id': 'DayOfYear', 'data_type': {'max': 2147483647, 'precision': 'int', 'min': -2147483648, 'type': 'PixelType'}, 'crs': 'EPSG:4326'}, {'dimensions': [5, 6], 'crs_transform': [1.0, 0.0, 0.0, 0.0, 1.0, 0.0], 'origin': [-122, 35], 'id': 'SummaryQA', 'data_type': {'max': 2147483647, 'precision': 'int', 'min': -2147483648, 'type': 'PixelType'}, 'crs': 'EPSG:4326'}, {'dimensions': [5, 6], 'crs_transform': [1.0, 0.0, 0.0, 0.0, 1.0, 0.0], 'origin': [-122, 35], 'id': 'DetailedQA', 'data_type': {'max': 2147483647, 'precision': 'int', 'min': -2147483648, 'type': 'PixelType'}, 'crs': 'EPSG:4326'}, {'dimensions': [5, 6], 'crs_transform': [1.0, 0.0, 0.0, 0.0, 1.0, 0.0], 'origin': [-122, 35], 'id': 'date', 'data_type': {'max': 2147483647, 'precision': 'int', 'min': -2147483648, 'type': 'PixelType'}, 'crs': 'EPSG:4326'}], 'type': 'Image'}\n"
     ]
    }
   ],
   "source": [
    "# Map the masking function to the MODIS image collection\n",
    "\n",
    "m_modis = modis.map(quality_forest_mask);\n",
    "print(ee.Image(m_modis.first()).getInfo());"
   ]
  },
  {
   "cell_type": "code",
   "execution_count": 6,
   "metadata": {},
   "outputs": [
    {
     "data": {
      "text/html": [
       "<img src=\"https://earthengine.googleapis.com/api/thumb?thumbid=10dbeb1a72cb27ae32beb6e7463d5460&token=de552e949bd32f35996ade5d7d2161fb\"/>"
      ],
      "text/plain": [
       "<IPython.core.display.Image object>"
      ]
     },
     "metadata": {},
     "output_type": "display_data"
    }
   ],
   "source": [
    "# Test the first image\n",
    "from IPython.display import Image, display, HTML\n",
    "test_img = ee.Image(m_modis.first()).select([\"EVI\"]).clip(sn);\n",
    "\n",
    "thumburl = test_img.getThumbUrl({\n",
    "                'min':0, \n",
    "                'max':100,\n",
    "            })\n",
    "\n",
    "#print thumburl\n",
    "img_thumb = Image(url=thumburl)\n",
    "display(img_thumb)"
   ]
  },
  {
   "cell_type": "code",
   "execution_count": 9,
   "metadata": {},
   "outputs": [
    {
     "name": "stdout",
     "output_type": "stream",
     "text": [
      "316\n"
     ]
    }
   ],
   "source": [
    "# loop through all images and create a feature representing the image number and acquisition date\n",
    "# Export each image upon looping\n",
    "\n",
    "# There are 391 images\n",
    "# print(m_modis.size().getInfo());\n",
    "\n",
    "first_img = 316\n",
    "num_imgs = 391\n",
    "\n",
    "# Create a list with num_imgs empty list elements\n",
    "# metadata = ee.List.sequence({\n",
    "#   'start': 0,\n",
    "#   'end': 390,\n",
    "#   'step': 1\n",
    "# })\n",
    "# metadata = [None]*num_imgs\n",
    "print(first_img)\n",
    "# print(\"sn-whole-ts-modis-forest-quality-mask-%s\"%str(date))\n",
    "# Loop through all images, add the date to the appropriate list element, and export image\n",
    "for i in range(first_img, num_imgs):\n",
    "    img = ee.Image(m_modis.toList(1, i).get(0));\n",
    "    date = ee.Date(img.get('system:time_start')).format(\"YYYYMMdd\");\n",
    "  \n",
    "    task = ee.batch.Export.image.toDrive(**{\n",
    "        'image': img, \n",
    "        'description': \"sn-whole-ts-modis-forest-quality-mask-\" + str(date.getInfo()), \n",
    "        'folder': 'ee/sierra-nevada-forest-quality-mask-modis-time-series', \n",
    "        'scale': 250, \n",
    "        'region': sn.geometry().getInfo()['coordinates'], \n",
    "        'crs': 'EPSG:3310'})\n",
    "    task.start()"
   ]
  },
  {
   "cell_type": "code",
   "execution_count": null,
   "metadata": {
    "collapsed": true
   },
   "outputs": [],
   "source": []
  }
 ],
 "metadata": {
  "kernelspec": {
   "display_name": "Python 3",
   "language": "python",
   "name": "python3"
  },
  "language_info": {
   "codemirror_mode": {
    "name": "ipython",
    "version": 3
   },
   "file_extension": ".py",
   "mimetype": "text/x-python",
   "name": "python",
   "nbconvert_exporter": "python",
   "pygments_lexer": "ipython3",
   "version": "3.5.3"
  }
 },
 "nbformat": 4,
 "nbformat_minor": 1
}

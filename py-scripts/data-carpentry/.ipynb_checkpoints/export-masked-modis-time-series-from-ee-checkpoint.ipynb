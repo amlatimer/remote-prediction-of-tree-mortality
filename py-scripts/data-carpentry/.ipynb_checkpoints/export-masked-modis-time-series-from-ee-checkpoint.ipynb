{
 "cells": [
  {
   "cell_type": "code",
   "execution_count": 1,
   "metadata": {
    "collapsed": false
   },
   "outputs": [],
   "source": [
    "# Import the Earth Engine Python Package\n",
    "import ee\n",
    "\n",
    "# Initialize the Earth Engine object, using the authentication credentials.\n",
    "ee.Initialize()"
   ]
  },
  {
   "cell_type": "code",
   "execution_count": 2,
   "metadata": {
    "collapsed": false
   },
   "outputs": [
    {
     "name": "stdout",
     "output_type": "stream",
     "text": [
      "391\n"
     ]
    }
   ],
   "source": [
    "# Import the required Images and ImageCollections\n",
    "sn = ee.FeatureCollection(\"ft:1VX1Uny1uAIYdgfuvsjLJVw1wMkhmSZq7fCQ0gowV\");\n",
    "modis = ee.ImageCollection(\"MODIS/006/MOD13Q1\");\n",
    "conifer_forest = ee.Image(\"users/mkoontz/sierra-nevada-250m-calveg-conifer-forested-pixels-by-whr-type-no-mask\");\n",
    "\n",
    "# How many images are in the MODIS ImageCollection?\n",
    "print(modis.size().getInfo());"
   ]
  },
  {
   "cell_type": "code",
   "execution_count": 25,
   "metadata": {
    "collapsed": false
   },
   "outputs": [
    {
     "data": {
      "text/html": [
       "<img src=\"https://earthengine.googleapis.com/api/thumb?thumbid=0b69d4fd071eb554b928b0890638b3f1&token=efcc06bcd3222414ef88e5e1a4a5dafc\"/>"
      ],
      "text/plain": [
       "<IPython.core.display.Image object>"
      ]
     },
     "metadata": {},
     "output_type": "display_data"
    }
   ],
   "source": [
    "# Display an image to make sure everything is working as expected.\n",
    "\n",
    "from IPython.display import Image, display, HTML\n",
    "\n",
    "thumburl = conifer_forest.getThumbUrl({\n",
    "                'min':0, \n",
    "                'max':1          \n",
    "            })\n",
    "\n",
    "#print thumburl\n",
    "img_thumb = Image(url=thumburl)\n",
    "display(img_thumb)"
   ]
  },
  {
   "cell_type": "code",
   "execution_count": 5,
   "metadata": {
    "collapsed": false
   },
   "outputs": [],
   "source": [
    "# Define the masking function that will determine which pixels are both forested AND of high MODIS quality.\n",
    "\n",
    "def quality_forest_mask(img):\n",
    "  the_mask = (\n",
    "    img\n",
    "        .select([\"SummaryQA\"]) # Look at the SummaryQA band\n",
    "        .eq(0)                 # Return 1 if value is 0 (good quality)\n",
    "        .And(conifer_forest)  # ... AND if pixel is forested. \n",
    "  );\n",
    "\n",
    "  return img.updateMask(the_mask);         # Mask pixels with a value of 0"
   ]
  },
  {
   "cell_type": "code",
   "execution_count": 15,
   "metadata": {
    "collapsed": false
   },
   "outputs": [
    {
     "name": "stdout",
     "output_type": "stream",
     "text": [
      "{'version': 1485050354780000, 'type': 'Image', 'id': 'MODIS/006/MOD13Q1/2000_02_18', 'properties': {'system:time_end': 952214400000, 'system:asset_size': 28219636986, 'system:footprint': {'type': 'LinearRing', 'coordinates': [[-180.0, 90.0], [-180.0, -90.0], [180.0, -90.0], [180.0, 90.0], [-180.0, 90.0]]}, 'system:index': '2000_02_18', 'system:time_start': 950832000000}, 'bands': [{'data_type': {'min': -32768, 'type': 'PixelType', 'precision': 'int', 'max': 32767}, 'crs': 'SR-ORG:6974', 'dimensions': [4657, 2530], 'origin': [38675, 23795], 'id': 'NDVI', 'crs_transform': [231.65635826395825, 0.0, -20015109.353988, 0.0, -231.65635826395834, 10007554.676994]}, {'data_type': {'min': -32768, 'type': 'PixelType', 'precision': 'int', 'max': 32767}, 'crs': 'SR-ORG:6974', 'dimensions': [4657, 2530], 'origin': [38675, 23795], 'id': 'EVI', 'crs_transform': [231.65635826395825, 0.0, -20015109.353988, 0.0, -231.65635826395834, 10007554.676994]}, {'data_type': {'min': 0, 'type': 'PixelType', 'precision': 'int', 'max': 65535}, 'crs': 'SR-ORG:6974', 'dimensions': [4657, 2530], 'origin': [38675, 23795], 'id': 'DetailedQA', 'crs_transform': [231.65635826395825, 0.0, -20015109.353988, 0.0, -231.65635826395834, 10007554.676994]}, {'data_type': {'min': -32768, 'type': 'PixelType', 'precision': 'int', 'max': 32767}, 'crs': 'SR-ORG:6974', 'dimensions': [4657, 2530], 'origin': [38675, 23795], 'id': 'sur_refl_b01', 'crs_transform': [231.65635826395825, 0.0, -20015109.353988, 0.0, -231.65635826395834, 10007554.676994]}, {'data_type': {'min': -32768, 'type': 'PixelType', 'precision': 'int', 'max': 32767}, 'crs': 'SR-ORG:6974', 'dimensions': [4657, 2530], 'origin': [38675, 23795], 'id': 'sur_refl_b02', 'crs_transform': [231.65635826395825, 0.0, -20015109.353988, 0.0, -231.65635826395834, 10007554.676994]}, {'data_type': {'min': -32768, 'type': 'PixelType', 'precision': 'int', 'max': 32767}, 'crs': 'SR-ORG:6974', 'dimensions': [4657, 2530], 'origin': [38675, 23795], 'id': 'sur_refl_b03', 'crs_transform': [231.65635826395825, 0.0, -20015109.353988, 0.0, -231.65635826395834, 10007554.676994]}, {'data_type': {'min': -32768, 'type': 'PixelType', 'precision': 'int', 'max': 32767}, 'crs': 'SR-ORG:6974', 'dimensions': [4657, 2530], 'origin': [38675, 23795], 'id': 'sur_refl_b07', 'crs_transform': [231.65635826395825, 0.0, -20015109.353988, 0.0, -231.65635826395834, 10007554.676994]}, {'data_type': {'min': -32768, 'type': 'PixelType', 'precision': 'int', 'max': 32767}, 'crs': 'SR-ORG:6974', 'dimensions': [4657, 2530], 'origin': [38675, 23795], 'id': 'ViewZenith', 'crs_transform': [231.65635826395825, 0.0, -20015109.353988, 0.0, -231.65635826395834, 10007554.676994]}, {'data_type': {'min': -32768, 'type': 'PixelType', 'precision': 'int', 'max': 32767}, 'crs': 'SR-ORG:6974', 'dimensions': [4657, 2530], 'origin': [38675, 23795], 'id': 'SolarZenith', 'crs_transform': [231.65635826395825, 0.0, -20015109.353988, 0.0, -231.65635826395834, 10007554.676994]}, {'data_type': {'min': -32768, 'type': 'PixelType', 'precision': 'int', 'max': 32767}, 'crs': 'SR-ORG:6974', 'dimensions': [4657, 2530], 'origin': [38675, 23795], 'id': 'RelativeAzimuth', 'crs_transform': [231.65635826395825, 0.0, -20015109.353988, 0.0, -231.65635826395834, 10007554.676994]}, {'data_type': {'min': -32768, 'type': 'PixelType', 'precision': 'int', 'max': 32767}, 'crs': 'SR-ORG:6974', 'dimensions': [4657, 2530], 'origin': [38675, 23795], 'id': 'DayOfYear', 'crs_transform': [231.65635826395825, 0.0, -20015109.353988, 0.0, -231.65635826395834, 10007554.676994]}, {'data_type': {'min': -128, 'type': 'PixelType', 'precision': 'int', 'max': 127}, 'crs': 'SR-ORG:6974', 'dimensions': [4657, 2530], 'origin': [38675, 23795], 'id': 'SummaryQA', 'crs_transform': [231.65635826395825, 0.0, -20015109.353988, 0.0, -231.65635826395834, 10007554.676994]}]}\n"
     ]
    }
   ],
   "source": [
    "# Map the masking function to the MODIS image collection\n",
    "\n",
    "m_modis = modis.map(quality_forest_mask);\n",
    "print(ee.Image(m_modis.first()).getInfo());"
   ]
  },
  {
   "cell_type": "code",
   "execution_count": 29,
   "metadata": {
    "collapsed": false
   },
   "outputs": [
    {
     "ename": "AttributeError",
     "evalue": "'Element' object has no attribute 'select'",
     "output_type": "error",
     "traceback": [
      "\u001b[0;31m---------------------------------------------------------------------------\u001b[0m",
      "\u001b[0;31mAttributeError\u001b[0m                            Traceback (most recent call last)",
      "\u001b[0;32m<ipython-input-29-3fafdfc5561b>\u001b[0m in \u001b[0;36m<module>\u001b[0;34m()\u001b[0m\n\u001b[1;32m      2\u001b[0m \u001b[0;32mfrom\u001b[0m \u001b[0mIPython\u001b[0m\u001b[0;34m.\u001b[0m\u001b[0mdisplay\u001b[0m \u001b[0;32mimport\u001b[0m \u001b[0mImage\u001b[0m\u001b[0;34m,\u001b[0m \u001b[0mdisplay\u001b[0m\u001b[0;34m,\u001b[0m \u001b[0mHTML\u001b[0m\u001b[0;34m\u001b[0m\u001b[0m\n\u001b[1;32m      3\u001b[0m \u001b[0mtest_img\u001b[0m \u001b[0;34m=\u001b[0m \u001b[0mee\u001b[0m\u001b[0;34m.\u001b[0m\u001b[0mImage\u001b[0m\u001b[0;34m(\u001b[0m\u001b[0mm_modis\u001b[0m\u001b[0;34m.\u001b[0m\u001b[0mfirst\u001b[0m\u001b[0;34m(\u001b[0m\u001b[0;34m)\u001b[0m\u001b[0;34m)\u001b[0m\u001b[0;34m.\u001b[0m\u001b[0mselect\u001b[0m\u001b[0;34m(\u001b[0m\u001b[0;34m[\u001b[0m\u001b[0;34m\"EVI\"\u001b[0m\u001b[0;34m]\u001b[0m\u001b[0;34m)\u001b[0m\u001b[0;34m.\u001b[0m\u001b[0mclip\u001b[0m\u001b[0;34m(\u001b[0m\u001b[0msn\u001b[0m\u001b[0;34m)\u001b[0m\u001b[0;34m;\u001b[0m\u001b[0;34m\u001b[0m\u001b[0m\n\u001b[0;32m----> 4\u001b[0;31m \u001b[0mtest_img\u001b[0m \u001b[0;34m=\u001b[0m \u001b[0mmodis\u001b[0m\u001b[0;34m.\u001b[0m\u001b[0mfirst\u001b[0m\u001b[0;34m(\u001b[0m\u001b[0;34m)\u001b[0m\u001b[0;34m.\u001b[0m\u001b[0mselect\u001b[0m\u001b[0;34m(\u001b[0m\u001b[0;34m[\u001b[0m\u001b[0;34m\"EVI\"\u001b[0m\u001b[0;34m]\u001b[0m\u001b[0;34m)\u001b[0m\u001b[0;34m.\u001b[0m\u001b[0mclip\u001b[0m\u001b[0;34m(\u001b[0m\u001b[0msn\u001b[0m\u001b[0;34m)\u001b[0m\u001b[0;34m;\u001b[0m\u001b[0;34m\u001b[0m\u001b[0m\n\u001b[0m\u001b[1;32m      5\u001b[0m \u001b[0;34m\u001b[0m\u001b[0m\n\u001b[1;32m      6\u001b[0m thumburl = test_img.getThumbUrl({\n",
      "\u001b[0;31mAttributeError\u001b[0m: 'Element' object has no attribute 'select'"
     ]
    }
   ],
   "source": [
    "# Test the first image\n",
    "from IPython.display import Image, display, HTML\n",
    "test_img = ee.Image(m_modis.first()).select([\"EVI\"]).clip(sn);\n",
    "test_img = ee.Image(modis.first()).select([\"EVI\"]).clip(sn);\n",
    "\n",
    "thumburl = test_img.getThumbUrl({\n",
    "                'min':0, \n",
    "                'max':100,\n",
    "            })\n",
    "\n",
    "#print thumburl\n",
    "img_thumb = Image(url=thumburl)\n",
    "display(img_thumb)"
   ]
  },
  {
   "cell_type": "code",
   "execution_count": null,
   "metadata": {
    "collapsed": true
   },
   "outputs": [],
   "source": []
  }
 ],
 "metadata": {
  "kernelspec": {
   "display_name": "Python 3",
   "language": "python",
   "name": "python3"
  },
  "language_info": {
   "codemirror_mode": {
    "name": "ipython",
    "version": 3
   },
   "file_extension": ".py",
   "mimetype": "text/x-python",
   "name": "python",
   "nbconvert_exporter": "python",
   "pygments_lexer": "ipython3",
   "version": "3.5.0"
  }
 },
 "nbformat": 4,
 "nbformat_minor": 0
}
